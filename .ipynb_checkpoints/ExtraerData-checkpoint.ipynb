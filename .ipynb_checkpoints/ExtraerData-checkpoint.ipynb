{
 "cells": [
  {
   "cell_type": "code",
   "execution_count": 1,
   "id": "4e1f41a2",
   "metadata": {},
   "outputs": [],
   "source": [
    "#importando librerias\n",
    "import requests\n",
    "from bs4 import BeautifulSoup\n",
    "import numpy as np\n",
    "\n",
    "def get_data():\n",
    "    #url del producto\n",
    "    url= \"https://hiraoka.com.pe/celulares/celulares/celular-libre-samsung-galaxy-a15-6-5-256gb-8gb-ram-blue-black\"\n",
    "\n",
    "    ##El header es información que mandan los navegadores, debemos incluirlo para simular que somos un usuario normal\n",
    "    header = {\"User-agent\":\"Mozilla/5.0 (Windows NT 10.0; Win64; x64) AppleWebKit/537.36 (KHTML, like Gecko) Chrome/86.0.4240.198 Safari/537.36\"}\n",
    "    \n",
    "    #pedicion para visitar la pagina\n",
    "    r= requests.get(url, headers=header, timeout=10)\n",
    "    if r.status_code == 200:\n",
    "        #soup\n",
    "        soup= BeautifulSoup(r.text,'html.parser')\n",
    "        #diccionario donde estaran los productos\n",
    "        product= {}\n",
    "        #buscador de nombre del producto\n",
    "        name_product=soup.find('h1', class_= \"page-title\").text\n",
    "        product['name']=name_product\n",
    "        #buscador precio del producto\n",
    "        price_product= soup.find('span', attrs={'class':'price'}).text\n",
    "        product['price']= price_product\n",
    "\n",
    "        return product\n",
    "        \n",
    "    else:\n",
    "        print(f\"Error al acceder a la página {r.status_code}\")"
   ]
  }
 ],
 "metadata": {
  "kernelspec": {
   "display_name": "Python 3",
   "language": "python",
   "name": "python3"
  },
  "language_info": {
   "codemirror_mode": {
    "name": "ipython",
    "version": 3
   },
   "file_extension": ".py",
   "mimetype": "text/x-python",
   "name": "python",
   "nbconvert_exporter": "python",
   "pygments_lexer": "ipython3",
   "version": "3.9.1"
  }
 },
 "nbformat": 4,
 "nbformat_minor": 5
}
