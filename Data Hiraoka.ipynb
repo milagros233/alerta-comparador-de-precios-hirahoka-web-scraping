{
 "cells": [
  {
   "cell_type": "markdown",
   "id": "06002582",
   "metadata": {},
   "source": [
    "# Extraccion de data"
   ]
  },
  {
   "cell_type": "code",
   "execution_count": 66,
   "id": "722483d2",
   "metadata": {},
   "outputs": [],
   "source": [
    "#importando librerias\n",
    "import requests\n",
    "from bs4 import BeautifulSoup\n",
    "import numpy as np"
   ]
  },
  {
   "cell_type": "code",
   "execution_count": 77,
   "id": "a5f58208",
   "metadata": {},
   "outputs": [],
   "source": [
    "#url del producto\n",
    "url= \"https://hiraoka.com.pe/celulares/celulares/celular-libre-samsung-galaxy-a15-6-5-256gb-8gb-ram-blue-black\"\n",
    "\n",
    "##El header es información que mandan los navegadores, debemos incluirlo para simular que somos un usuario normal\n",
    "header = {\"User-agent\":\"Mozilla/5.0 (Windows NT 10.0; Win64; x64) AppleWebKit/537.36 (KHTML, like Gecko) Chrome/86.0.4240.198 Safari/537.36\"}\n"
   ]
  },
  {
   "cell_type": "code",
   "execution_count": 78,
   "id": "35d27168",
   "metadata": {},
   "outputs": [
    {
     "data": {
      "text/plain": [
       "200"
      ]
     },
     "execution_count": 78,
     "metadata": {},
     "output_type": "execute_result"
    }
   ],
   "source": [
    "#pedicion para visitar la pagina\n",
    "r= requests.get(url, headers=header, timeout=10)\n",
    "r.status_code"
   ]
  },
  {
   "cell_type": "code",
   "execution_count": 79,
   "id": "2cbf7feb",
   "metadata": {},
   "outputs": [],
   "source": [
    "#soup\n",
    "soup= BeautifulSoup(r.text,'html.parser')"
   ]
  },
  {
   "cell_type": "code",
   "execution_count": 80,
   "id": "8e480fd2",
   "metadata": {},
   "outputs": [],
   "source": [
    "#se almacenara en una lista\n",
    "producto= list()\n"
   ]
  },
  {
   "cell_type": "code",
   "execution_count": 81,
   "id": "46ebcc46",
   "metadata": {},
   "outputs": [],
   "source": [
    "#buscador de nombre del producto\n",
    "nom_producto=soup.find('h1', class_= \"page-title\").text\n",
    "producto.append(nom_producto)\n"
   ]
  },
  {
   "cell_type": "code",
   "execution_count": 82,
   "id": "059b70b0",
   "metadata": {},
   "outputs": [],
   "source": [
    "#buscador precio del producto\n",
    "precio_producto= soup.find('span', attrs={'class':'price'}).text\n",
    "producto.append(precio_producto)"
   ]
  },
  {
   "cell_type": "code",
   "execution_count": 83,
   "id": "fbf389a3",
   "metadata": {},
   "outputs": [
    {
     "data": {
      "text/plain": [
       "['\\nCelular Libre Samsung Galaxy A15 6.5\" 256GB 8GB RAM Blue Black ',\n",
       " 'S/ \\xa0699.00']"
      ]
     },
     "execution_count": 83,
     "metadata": {},
     "output_type": "execute_result"
    }
   ],
   "source": [
    "producto"
   ]
  },
  {
   "cell_type": "markdown",
   "id": "f2e00ee8",
   "metadata": {},
   "source": [
    "# Limpieza de data "
   ]
  },
  {
   "cell_type": "code",
   "execution_count": 99,
   "id": "1bc9efac",
   "metadata": {},
   "outputs": [],
   "source": [
    "def clean_data (data_product):\n",
    "    #eliminando caracteres especiales\n",
    "    for i in range(len(data_product)):\n",
    "        if  data_product[i]  is str: \n",
    "            data_product[i] = data_product[i].replace(\"\\n\",\"\",).replace(\"S/\",\"\").strip()\n",
    "        \n",
    "    #cambiando el precio del producto a float\n",
    "    if type(data_product[1]) is str :\n",
    "        data_product[1]= np.float(data_product[1])\n",
    "    \n",
    "    return data_product"
   ]
  },
  {
   "cell_type": "code",
   "execution_count": 100,
   "id": "54b3701f",
   "metadata": {},
   "outputs": [
    {
     "data": {
      "text/plain": [
       "['Celular Libre Samsung Galaxy A15 6.5\" 256GB 8GB RAM Blue Black', 699.0]"
      ]
     },
     "execution_count": 100,
     "metadata": {},
     "output_type": "execute_result"
    }
   ],
   "source": [
    "producto = clean_data(producto)\n",
    "producto"
   ]
  },
  {
   "cell_type": "markdown",
   "id": "469cccdc",
   "metadata": {},
   "source": [
    "# Enviar por correo"
   ]
  },
  {
   "cell_type": "code",
   "execution_count": 138,
   "id": "c3e5bf43",
   "metadata": {},
   "outputs": [],
   "source": [
    "# se crea una función para enviar el correo \n",
    "# parametros de entrada: \n",
    "# - asunto del correo (subject)\n",
    "# - contenido del correo (body)\n",
    "# - los datos de la cuenta de correo electrónico Gmail (user)\n",
    "# - la contraseña de acceso del correo (pwd) \n",
    "# - la dirección de correo electrónico a la que queremos notificar (recipient)\n",
    "\n",
    "def send_email(subject, body, user='email09@hotmail.com', pwd='password', recipient='cuya210@gmail.com'):\n",
    "    \n",
    "    import smtplib\n",
    "    from email.mime.text import MIMEText\n",
    "\n",
    "    #contenido del correo\n",
    "    msg = MIMEText(body)\n",
    "    \n",
    "    #el asunto del correo\n",
    "    msg['Subject'] = subject\n",
    "    \n",
    "    #remitente del correo\n",
    "    msg['From'] = user\n",
    "    \n",
    "    #correo destino\n",
    "    msg['To'] = recipient\n",
    "\n",
    "\n",
    "    try:\n",
    "        #se utiliza with para que se cierre atmaticamente la conexión con el servidor SMTP\n",
    "        with smtplib.SMTP(\"smtp-mail.outlook.com\", port=587) as server:\n",
    "            \n",
    "            #se envía el comando EHLO al servidor SMTP para identificar al cliente y solicitar capacidades adicionales \n",
    "            #inicia la comunicación con el servidor.)\n",
    "            server.ehlo()\n",
    "            \n",
    "            #se inicia el cifrado TLS para asegurar la conexión entre tu aplicación y el servidor SMTP\n",
    "            #asegura la conexión cifrando la comunicación.\n",
    "            server.starttls()\n",
    "            \n",
    "            #autentica al usuario con su nombre de usuario y contraseña\n",
    "            server.login(user, pwd)\n",
    "            \n",
    "            #se envia el correo\n",
    "            server.sendmail(user, recipient, msg.as_string())\n",
    "            \n",
    "        print('Se envió el correo correctamente')\n",
    "        \n",
    "    except smtplib.SMTPAuthenticationError:\n",
    "        print('Error de autenticación')\n",
    "        \n",
    "    except smtplib.SMTPRecipientsRefused:\n",
    "        print('El destinatario rechazó el mensaje')\n",
    " \n",
    "    except smtplib.SMTPSenderRefused:\n",
    "        print('El remitente fue rechazado')\n",
    "        \n",
    "    except smtplib.SMTPException as e:\n",
    "        print(f'Error SMTP: {e}')\n",
    "        \n",
    "    except Exception as e:\n",
    "        print(f'Fallo el envío de correo: {e}')\n",
    "        "
   ]
  },
  {
   "cell_type": "markdown",
   "id": "b399a9f5",
   "metadata": {},
   "source": [
    "# Creación de la alerta"
   ]
  },
  {
   "cell_type": "code",
   "execution_count": 139,
   "id": "4c493a2c",
   "metadata": {},
   "outputs": [
    {
     "name": "stdout",
     "output_type": "stream",
     "text": [
      "Se envió el correo correctamente\n"
     ]
    }
   ],
   "source": [
    "precio_alerta= 700.00\n",
    "\n",
    "if producto[1] < precio_alerta:\n",
    "    #se prepara el encabezado y cuerpo del correo\n",
    "    subject= f\"Alerta Baja de Precio del Producto {producto[0]}\"\n",
    "    body= f\"\\n El producto {producto[0]} ha bajado de precio \\n Antes costaba S/.{precio_alerta} ahora S/. {producto[1]} \\n Visita la pagina {url}\"\n",
    "    send_email(subject, body) "
   ]
  }
 ],
 "metadata": {
  "kernelspec": {
   "display_name": "Python 3",
   "language": "python",
   "name": "python3"
  },
  "language_info": {
   "codemirror_mode": {
    "name": "ipython",
    "version": 3
   },
   "file_extension": ".py",
   "mimetype": "text/x-python",
   "name": "python",
   "nbconvert_exporter": "python",
   "pygments_lexer": "ipython3",
   "version": "3.9.1"
  }
 },
 "nbformat": 4,
 "nbformat_minor": 5
}
